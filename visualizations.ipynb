{
 "metadata": {
  "language_info": {
   "codemirror_mode": {
    "name": "ipython",
    "version": 3
   },
   "file_extension": ".py",
   "mimetype": "text/x-python",
   "name": "python",
   "nbconvert_exporter": "python",
   "pygments_lexer": "ipython3",
   "version": "3.8.6-final"
  },
  "orig_nbformat": 2,
  "kernelspec": {
   "name": "python3",
   "display_name": "Python 3.8.6 64-bit ('venv')",
   "metadata": {
    "interpreter": {
     "hash": "22294a80ba70ebe593ff8b3b8728d288419a9d76a0b29e54930c043a4951df21"
    }
   }
  }
 },
 "nbformat": 4,
 "nbformat_minor": 2,
 "cells": [
  {
   "cell_type": "code",
   "execution_count": 13,
   "metadata": {},
   "outputs": [],
   "source": [
    "from pathlib import Path\n",
    "import os\n",
    "import json\n",
    "import numpy as np"
   ]
  },
  {
   "source": [
    "# plot episode lengths\n",
    "\n",
    "root = Path('results')\n",
    "\n",
    "def load_episode_lengths(root):\n",
    "    for dir in root.iterdir():    \n",
    "        params_f = dir/'params.json'               \n",
    "        params = json.load(open(params_f))\n",
    "        ep_len_f = dir/'episode_lengths.npy'\n",
    "        ep_len = np.load(ep_len_f)\n",
    "        \n",
    "\n",
    "load_episode_lengths(root)"
   ],
   "cell_type": "code",
   "metadata": {
    "tags": []
   },
   "execution_count": 14,
   "outputs": []
  },
  {
   "cell_type": "code",
   "execution_count": null,
   "metadata": {},
   "outputs": [],
   "source": []
  }
 ]
}