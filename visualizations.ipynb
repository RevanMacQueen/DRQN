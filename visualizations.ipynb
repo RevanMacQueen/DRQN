{
 "metadata": {
  "language_info": {
   "codemirror_mode": {
    "name": "ipython",
    "version": 3
   },
   "file_extension": ".py",
   "mimetype": "text/x-python",
   "name": "python",
   "nbconvert_exporter": "python",
   "pygments_lexer": "ipython3",
   "version": "3.8.6-final"
  },
  "orig_nbformat": 2,
  "kernelspec": {
   "name": "python3",
   "display_name": "Python 3.8.6 64-bit ('venv')",
   "metadata": {
    "interpreter": {
     "hash": "22294a80ba70ebe593ff8b3b8728d288419a9d76a0b29e54930c043a4951df21"
    }
   }
  }
 },
 "nbformat": 4,
 "nbformat_minor": 2,
 "cells": [
  {
   "cell_type": "code",
   "execution_count": 1,
   "metadata": {},
   "outputs": [],
   "source": [
    "from pathlib import Path\n",
    "import os\n",
    "import json\n",
    "import pandas \n",
    "import numpy as np\n",
    "import matplotlib.pyplot as plt\n",
    "import matplotlib.patches as mpatches\n",
    "from gym_recording_modified.playback import get_recordings\n",
    "from utils.data_extractors import *\n",
    "from utils.visualizations import *\n",
    "import seaborn as sns\n",
    "from scipy.stats import sem\n",
    "from scipy.signal import convolve2d"
   ]
  },
  {
   "cell_type": "code",
   "execution_count": 23,
   "metadata": {},
   "outputs": [],
   "source": [
    "root = Path('results_new_rb')\n",
    "filters = {\n",
    "'learning_freq' : [1],\n",
    "'target_update_freq' : [100]}\n",
    "\n",
    "params, times = extract_times(root, ['model_arch', 'env', 'seed', 'learning_freq', 'target_update_freq', 'seq_len'], filters)\n",
    "\n",
    "\n",
    "\n",
    "#plot_rewards(params, times, plot=[0,5], plot_fmt='%s, %s', xlabel=\"Step\", ylabel=\"Average Reward\", title='', window=1)"
   ]
  },
  {
   "cell_type": "code",
   "execution_count": 28,
   "metadata": {
    "tags": []
   },
   "outputs": [],
   "source": [
    "categories = [0, 5 ]\n",
    "\n",
    "for env in ['CartPole-v1', 'MountainCar-v0', 'envs:random_maze-v0']:\n",
    "    printstr = ''\n",
    "    for param_cat in  np.unique(params[:, categories], axis=0):\n",
    "        \n",
    "        inds =  np.where((params[:, categories]==param_cat).all(axis=1) & (params[:, 1] == env) )\n",
    "        printstr += \"& $%.0f \\pm %.0f$ \" % (np.mean(times[inds]), np.std(times[inds]))\n",
    "    printstr += \"\\\\ \\midrule\"\n"
   ]
  },
  {
   "cell_type": "code",
   "execution_count": 37,
   "metadata": {},
   "outputs": [
    {
     "output_type": "stream",
     "name": "stdout",
     "text": [
      "['FFN' '10']\n398.80661742687226\n398.80661742687226\n0.0\n['RNN' '1']\n801.3656058311462\n100.94089987814452\n['RNN' '2']\n977.4939419349034\n145.10474481134784\n['RNN' '4']\n1204.6004863500596\n202.05127841714986\n['RNN' '8']\n1714.4628466924032\n329.8982945053007\n"
     ]
    }
   ],
   "source": [
    "for param_cat in  np.unique(params[:, categories], axis=0):\n",
    "    inds =  np.where((params[:, categories]==param_cat).all(axis=1) )\n",
    "    print(param_cat)\n",
    "    if param_cat[0] == 'FFN':\n",
    "        baseline = np.mean(times[inds])\n",
    "        print(baseline)\n",
    "    print(np.mean(times[inds]))\n",
    "    print(((np.mean(times[inds]) - baseline )/baseline) * 100) \n",
    "    "
   ]
  },
  {
   "cell_type": "code",
   "execution_count": null,
   "metadata": {},
   "outputs": [],
   "source": []
  }
 ]
}