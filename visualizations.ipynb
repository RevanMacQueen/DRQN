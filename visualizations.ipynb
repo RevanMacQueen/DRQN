{
 "metadata": {
  "language_info": {
   "codemirror_mode": {
    "name": "ipython",
    "version": 3
   },
   "file_extension": ".py",
   "mimetype": "text/x-python",
   "name": "python",
   "nbconvert_exporter": "python",
   "pygments_lexer": "ipython3",
   "version": "3.8.6-final"
  },
  "orig_nbformat": 2,
  "kernelspec": {
   "name": "python3",
   "display_name": "Python 3.8.6 64-bit ('venv')",
   "metadata": {
    "interpreter": {
     "hash": "22294a80ba70ebe593ff8b3b8728d288419a9d76a0b29e54930c043a4951df21"
    }
   }
  }
 },
 "nbformat": 4,
 "nbformat_minor": 2,
 "cells": [
  {
   "cell_type": "code",
   "execution_count": 1,
   "metadata": {},
   "outputs": [],
   "source": [
    "from pathlib import Path\n",
    "import os\n",
    "import json\n",
    "import pandas \n",
    "import numpy as np\n",
    "import matplotlib.pyplot as plt\n",
    "import matplotlib.patches as mpatches\n",
    "from gym_recording_modified.playback import get_recordings\n",
    "from utils.data_extractors import *\n",
    "from utils.visualizations import *\n",
    "import seaborn as sns\n",
    "from scipy.stats import sem\n",
    "from scipy.signal import convolve2d"
   ]
  },
  {
   "cell_type": "code",
   "execution_count": 5,
   "metadata": {},
   "outputs": [],
   "source": [
    "root = Path('results_new_rb')\n",
    "filters = {\n",
    "    'env': ['envs:random_maze-v0'],\n",
    "    'target_update_freq' : [100]}\n",
    "\n",
    "params, times = extract_times(root, ['model_arch', 'env', 'seed', 'learning_freq', 'target_update_freq', 'seq_len'], filters)"
   ]
  },
  {
   "cell_type": "code",
   "execution_count": null,
   "metadata": {},
   "outputs": [],
   "source": []
  }
 ]
}